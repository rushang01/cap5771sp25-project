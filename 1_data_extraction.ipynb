{
 "cells": [
  {
   "cell_type": "code",
   "execution_count": 1,
   "metadata": {},
   "outputs": [],
   "source": [
    "import ijson\n",
    "import pandas as pd"
   ]
  },
  {
   "cell_type": "code",
   "execution_count": null,
   "metadata": {},
   "outputs": [],
   "source": [
    "with open('data/swiggy.json', 'r') as f:\n",
    "    # Use 'Bangalore.restaurants' if the JSON top-level keys are city names.\n",
    "    restaurants_iterator = ijson.kvitems(f, 'Bangalore')\n",
    "    bangalore_data = list(restaurants_iterator)"
   ]
  },
  {
   "cell_type": "code",
   "execution_count": 7,
   "metadata": {},
   "outputs": [
    {
     "name": "stdout",
     "output_type": "stream",
     "text": [
      "               Area Restaurant ID                             Name Rating  \\\n",
      "0      Yeshwanthpur        510172                   KNEAD-O-BREADS     --   \n",
      "1      Yeshwanthpur         48225                     Kanti Sweets    4.3   \n",
      "2      Yeshwanthpur        512476                    CAKE AND BAKE     --   \n",
      "3      Yeshwanthpur        352231                          M GRILL    4.0   \n",
      "4      Yeshwanthpur        524339                        Idly Guru     --   \n",
      "...             ...           ...                              ...    ...   \n",
      "16696          link        505819                  Hungama Biryani     --   \n",
      "16697          link        330564     Northwest Kebab & Curryhouse    3.7   \n",
      "16698          link        523252                       Burgers@24     --   \n",
      "16699          link        570480                  SHAWARMA INDIAH    5.0   \n",
      "16700          link        274781  Mealful Rolls - Meals in a Roll     --   \n",
      "\n",
      "          Rating Count Cost for Two  \\\n",
      "0      Too Few Ratings        ₹ 250   \n",
      "1         100+ ratings        ₹ 150   \n",
      "2      Too Few Ratings        ₹ 200   \n",
      "3          20+ ratings        ₹ 300   \n",
      "4      Too Few Ratings         ₹ 40   \n",
      "...                ...          ...   \n",
      "16696                                 \n",
      "16697                                 \n",
      "16698                                 \n",
      "16699                                 \n",
      "16700                                 \n",
      "\n",
      "                                                 Address           Cuisine  \\\n",
      "0      KNEAD-O-BREADS, 1042, triveni road, gokula 1st...  Fast Food,Snacks   \n",
      "1      Kanti Sweets, Kanti Sweets  # 82/8, HMT Main R...            Sweets   \n",
      "2      CAKE AND BAKE, NUMBER 59 8TH MAIN ROAD MUTHALA...  Snacks,Fast Food   \n",
      "3      M GRILL, No 2/1 Cross, MSR college Road, Mathi...     Grill,Tandoor   \n",
      "4      Idly Guru, Yeshwanthpur 1st stage, Yeshwanthpu...      South Indian   \n",
      "...                                                  ...               ...   \n",
      "16696                                                                        \n",
      "16697                                                                        \n",
      "16698                                                                        \n",
      "16699                                                                        \n",
      "16700                                                                        \n",
      "\n",
      "           License No                                               Menu  \\\n",
      "0      21222180000387  Kulcha (Pack of 4) (Veg): ₹45; Multigrain Brea...   \n",
      "1      11214331000823  Cocunut Holige (1 Pc) (Veg): ₹28.57; Kajjaya (...   \n",
      "2      21221178000964  Smilies - 6 Pcs (Veg): ₹100; Veg Nuggets -6 Pc...   \n",
      "3      21220180001166  Chicken Roll (Non-veg): ₹99; Paneer Roll (Veg)...   \n",
      "4      11222332000340  Thatte Idly [2 pieces] (Veg): ₹40; Parcel Box ...   \n",
      "...               ...                                                ...   \n",
      "16696                                                                      \n",
      "16697                                                                      \n",
      "16698                                                                      \n",
      "16699                                                                      \n",
      "16700                                                                      \n",
      "\n",
      "                                                    Link  \n",
      "0      https://www.swiggy.com/restaurants/knead-o-bre...  \n",
      "1      https://www.swiggy.com/restaurants/kanti-sweet...  \n",
      "2      https://www.swiggy.com/restaurants/cake-and-ba...  \n",
      "3      https://www.swiggy.com/restaurants/m-grill-ms-...  \n",
      "4      https://www.swiggy.com/restaurants/idly-guru-y...  \n",
      "...                                                  ...  \n",
      "16696               hungama-biryani-btm-bangalore-505819  \n",
      "16697  northwest-kebab-and-curryhouse-koramangala-ban...  \n",
      "16698                    burgers-24-btm-bangalore-523252  \n",
      "16699               shawarma-indiah-hsr-bangalore-570480  \n",
      "16700  mealful-rolls-meals-in-a-roll-koramangala-bang...  \n",
      "\n",
      "[16701 rows x 11 columns]\n"
     ]
    }
   ],
   "source": [
    "# Initialize an empty list to hold restaurant data\n",
    "restaurants_list = []\n",
    "\n",
    "# Iterate over the data to extract restaurant details\n",
    "for area, area_data in bangalore_data:\n",
    "    for rest_id, rest_data in area_data['restaurants'].items():\n",
    "        # Flatten the menu into a string representation\n",
    "        menu_items = []\n",
    "        for category, items in rest_data.get('menu', {}).items():\n",
    "            for item_name, item_details in items.items():\n",
    "                menu_items.append(f\"{item_name} ({item_details['veg_or_non_veg']}): ₹{item_details['price']}\")\n",
    "        menu_str = \"; \".join(menu_items)\n",
    "        \n",
    "        # Append the restaurant data to the list\n",
    "        restaurants_list.append({\n",
    "            'Area': area,\n",
    "            'Restaurant ID': rest_id,\n",
    "            'Name': rest_data.get('name', ''),\n",
    "            'Rating': rest_data.get('rating', ''),\n",
    "            'Rating Count': rest_data.get('rating_count', ''),\n",
    "            'Cost for Two': rest_data.get('cost', ''),\n",
    "            'Address': rest_data.get('address', ''),\n",
    "            'Cuisine': rest_data.get('cuisine', ''),\n",
    "            'License No': rest_data.get('lic_no', ''),\n",
    "            'Menu': menu_str,\n",
    "            'Link': rest_data.get('link', '')\n",
    "        })\n",
    "\n",
    "# Create a DataFrame\n",
    "df = pd.DataFrame(restaurants_list)\n",
    "\n",
    "# Display the DataFrame\n",
    "print(df)"
   ]
  },
  {
   "cell_type": "code",
   "execution_count": 10,
   "metadata": {},
   "outputs": [],
   "source": [
    "df.to_csv('data/swiggy_bangalore.csv', index=False)"
   ]
  },
  {
   "cell_type": "code",
   "execution_count": 3,
   "metadata": {},
   "outputs": [],
   "source": [
    "df_indian_restaurants = pd.read_csv('data/indian_restaurants.csv')\n",
    "df_bangalore_restaurants = df_indian_restaurants[df_indian_restaurants['City'] == 'Bangalore']\n",
    "df_bangalore_restaurants.to_csv('data/indian_restaurants_bangalore.csv', index=False)"
   ]
  }
 ],
 "metadata": {
  "kernelspec": {
   "display_name": "Langchain_and_AI-czPuE1es",
   "language": "python",
   "name": "python3"
  },
  "language_info": {
   "codemirror_mode": {
    "name": "ipython",
    "version": 3
   },
   "file_extension": ".py",
   "mimetype": "text/x-python",
   "name": "python",
   "nbconvert_exporter": "python",
   "pygments_lexer": "ipython3",
   "version": "3.11.5"
  }
 },
 "nbformat": 4,
 "nbformat_minor": 2
}
